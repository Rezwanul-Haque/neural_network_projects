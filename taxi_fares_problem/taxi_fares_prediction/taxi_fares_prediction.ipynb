{
 "cells": [
  {
   "cell_type": "markdown",
   "metadata": {},
   "source": [
    "Authors       | Email                  |\n",
    ":--------------|:----------------------|\n",
    "Rezwanul      | rezwanul.cse@gmail.com |\n"
   ]
  },
  {
   "cell_type": "markdown",
   "metadata": {},
   "source": [
    "## Problem: Predicting taxi fares in New York City\n",
    "### Problem class: Supervised Regression\n",
    "\n",
    "### Problem dataset link: [kaggle dataset link](https://www.kaggle.com/uciml/pima-indians-diabetes-database/data) |\n",
    "\n",
    "### Problem description:\n",
    "\n",
    " Diagnostically predict whether or not a patient has diabetes, based on certain diagnostic measurements included in the dataset. Several constraints were placed on the selection of these instances from a larger database. In particular, all patients here are females at least 21 years old of Pima Indian heritage\n",
    "\n",
    "### Problem Task:  Build a machine learning model to accurately predict whether or not the patients in the dataset have \"Diabetes Mellitus\" or not?"
   ]
  },
  {
   "cell_type": "markdown",
   "metadata": {},
   "source": [
    "# Import Libraries"
   ]
  },
  {
   "cell_type": "code",
   "execution_count": 43,
   "metadata": {},
   "outputs": [],
   "source": [
    "import warnings\n",
    "warnings.filterwarnings('ignore')\n",
    "\n",
    "import pandas as pd\n",
    "from matplotlib import pyplot as plt\n",
    "%matplotlib inline\n",
    "\n",
    "import seaborn as sns\n",
    "sns.set()\n",
    "\n",
    "import numpy as np\n",
    "from sklearn import preprocessing\n",
    "from sklearn.model_selection import train_test_split\n",
    "from sklearn.metrics import confusion_matrix, roc_curve\n",
    "\n",
    "from keras.models import Sequential\n",
    "from keras.layers import Dense"
   ]
  },
  {
   "cell_type": "markdown",
   "metadata": {},
   "source": [
    "# Loading data"
   ]
  },
  {
   "cell_type": "code",
   "execution_count": 2,
   "metadata": {},
   "outputs": [
    {
     "data": {
      "text/html": [
       "<div>\n",
       "<style scoped>\n",
       "    .dataframe tbody tr th:only-of-type {\n",
       "        vertical-align: middle;\n",
       "    }\n",
       "\n",
       "    .dataframe tbody tr th {\n",
       "        vertical-align: top;\n",
       "    }\n",
       "\n",
       "    .dataframe thead th {\n",
       "        text-align: right;\n",
       "    }\n",
       "</style>\n",
       "<table border=\"1\" class=\"dataframe\">\n",
       "  <thead>\n",
       "    <tr style=\"text-align: right;\">\n",
       "      <th></th>\n",
       "      <th>Pregnancies</th>\n",
       "      <th>Glucose</th>\n",
       "      <th>BloodPressure</th>\n",
       "      <th>SkinThickness</th>\n",
       "      <th>Insulin</th>\n",
       "      <th>BMI</th>\n",
       "      <th>DiabetesPedigreeFunction</th>\n",
       "      <th>Age</th>\n",
       "      <th>Outcome</th>\n",
       "    </tr>\n",
       "  </thead>\n",
       "  <tbody>\n",
       "    <tr>\n",
       "      <th>0</th>\n",
       "      <td>6</td>\n",
       "      <td>148</td>\n",
       "      <td>72</td>\n",
       "      <td>35</td>\n",
       "      <td>0</td>\n",
       "      <td>33.6</td>\n",
       "      <td>0.627</td>\n",
       "      <td>50</td>\n",
       "      <td>1</td>\n",
       "    </tr>\n",
       "    <tr>\n",
       "      <th>1</th>\n",
       "      <td>1</td>\n",
       "      <td>85</td>\n",
       "      <td>66</td>\n",
       "      <td>29</td>\n",
       "      <td>0</td>\n",
       "      <td>26.6</td>\n",
       "      <td>0.351</td>\n",
       "      <td>31</td>\n",
       "      <td>0</td>\n",
       "    </tr>\n",
       "    <tr>\n",
       "      <th>2</th>\n",
       "      <td>8</td>\n",
       "      <td>183</td>\n",
       "      <td>64</td>\n",
       "      <td>0</td>\n",
       "      <td>0</td>\n",
       "      <td>23.3</td>\n",
       "      <td>0.672</td>\n",
       "      <td>32</td>\n",
       "      <td>1</td>\n",
       "    </tr>\n",
       "    <tr>\n",
       "      <th>3</th>\n",
       "      <td>1</td>\n",
       "      <td>89</td>\n",
       "      <td>66</td>\n",
       "      <td>23</td>\n",
       "      <td>94</td>\n",
       "      <td>28.1</td>\n",
       "      <td>0.167</td>\n",
       "      <td>21</td>\n",
       "      <td>0</td>\n",
       "    </tr>\n",
       "    <tr>\n",
       "      <th>4</th>\n",
       "      <td>0</td>\n",
       "      <td>137</td>\n",
       "      <td>40</td>\n",
       "      <td>35</td>\n",
       "      <td>168</td>\n",
       "      <td>43.1</td>\n",
       "      <td>2.288</td>\n",
       "      <td>33</td>\n",
       "      <td>1</td>\n",
       "    </tr>\n",
       "  </tbody>\n",
       "</table>\n",
       "</div>"
      ],
      "text/plain": [
       "   Pregnancies  Glucose  BloodPressure  SkinThickness  Insulin   BMI  \\\n",
       "0            6      148             72             35        0  33.6   \n",
       "1            1       85             66             29        0  26.6   \n",
       "2            8      183             64              0        0  23.3   \n",
       "3            1       89             66             23       94  28.1   \n",
       "4            0      137             40             35      168  43.1   \n",
       "\n",
       "   DiabetesPedigreeFunction  Age  Outcome  \n",
       "0                     0.627   50        1  \n",
       "1                     0.351   31        0  \n",
       "2                     0.672   32        1  \n",
       "3                     0.167   21        0  \n",
       "4                     2.288   33        1  "
      ]
     },
     "execution_count": 2,
     "metadata": {},
     "output_type": "execute_result"
    }
   ],
   "source": [
    "# URL = \"https://storage.googleapis.com/kagglesdsdata/datasets/228/482/diabetes.csv?GoogleAccessId=web-data@kaggle-161607.iam.gserviceaccount.com&Expires=1574499517&Signature=nsb4mSEK59QstjmPpcq7zWS%2FWiAgcDQVdywOIKVPZlp1wpbxSVbyRLUjuAhjT0hIVUIGDVNosfU57kw1%2B3xNyNswSFZ7SWTxUEkoJDBaivAshzFBGB87JtQNmeCeRcP4ys9Z%2FQ9ARbO7Cd0u6CzxwGAFzehtJKjhjTqWufshAA%2F41ml3jN%2Fbfmr1RdndFDCaCxHeLqTDvWzd0YntqyJ4sME277GMc5Z6qufxtaNZmrPNVD%2BX6N1ZJSw8vocIcrq2FpO8lZCmp96hwGPJe9mpKUnATCAlWcyfgNLwYAD3AzKHQiJVMMGHQjNIMAgeSz74qTlV7tHe9NFGCxaRzfkDGA%3D%3D&response-content-disposition=attachment%3B+filename%3Ddiabetes.csv\"\n",
    "# df = pd.read_csv(URL, names=['Pregnancies', 'Glucose', 'BloodPressure', 'SkinThickness', 'Insulin', 'BMI', 'DiabetesPedigreeFunction', 'Age', 'Outcome'])\n",
    "df = pd.read_csv('data/diabetes.csv')\n",
    "\n",
    "df.head()"
   ]
  },
  {
   "cell_type": "markdown",
   "metadata": {},
   "source": [
    "# Dataset Description\n",
    "1. Pregnancies: Number of previous pregnancies\n",
    "2. Glucose: Plasma glucose concentration\n",
    "3. BloodPressure: Diastolic blood pressure\n",
    "4. SkinThickness: Skin fold thickness measured from the triceps\n",
    "5. Insulin : Blood serum insulin concentration\n",
    "6. BMI: Body mass index\n",
    "7. DiabetesPedigreeFunction: A summarized score that indicates the genetic predisposition of the patient for diabetes, as extrapolated from the patient's family record for diabetes\n",
    "8. Age: Age in years\n",
    "9. Outcome: The target variable we are trying to predict, 1 for patients that developed diabetes within five years of the initial measurement, and 0 otherwise"
   ]
  },
  {
   "cell_type": "markdown",
   "metadata": {},
   "source": [
    "# Exploratory data analysis"
   ]
  },
  {
   "cell_type": "markdown",
   "metadata": {},
   "source": [
    "### Visualizing the distribution"
   ]
  },
  {
   "cell_type": "code",
   "execution_count": 3,
   "metadata": {},
   "outputs": [
    {
     "data": {
      "image/png": "[encoded data removed]",
      "text/plain": [
       "<Figure size 1080x576 with 9 Axes>"
      ]
     },
     "metadata": {
      "needs_background": "light"
     },
     "output_type": "display_data"
    },
    {
     "data": {
      "text/plain": [
       "'\\nInsight: From the histogram for Age, we can see that most of the data was collected from young\\npeople, with the most common age group between 20-30 years old. We can also see that the \\ndistribution for BMI, BloodPressure, and Glucose concentration is normally distributed (that is, \\na bell curve shape), which is what we we expect when we collect such statistics from a population.\\n'"
      ]
     },
     "execution_count": 3,
     "metadata": {},
     "output_type": "execute_result"
    }
   ],
   "source": [
    "df.hist(figsize=(15,8))\n",
    "plt.show()\n",
    "\n",
    "\"\"\"\n",
    "Insight: From the histogram for Age, we can see that most of the data was collected from young\n",
    "people, with the most common age group between 20-30 years old. We can also see that the \n",
    "distribution for BMI, BloodPressure, and Glucose concentration is normally distributed (that is, \n",
    "a bell curve shape), which is what we we expect when we collect such statistics from a population.\n",
    "\"\"\""
   ]
  },
  {
   "cell_type": "code",
   "execution_count": 4,
   "metadata": {},
   "outputs": [
    {
     "data": {
      "text/plain": [
       "<matplotlib.axes._subplots.AxesSubplot at 0x7ff85a11ac10>"
      ]
     },
     "execution_count": 4,
     "metadata": {},
     "output_type": "execute_result"
    },
    {
     "data": {
      "image/png": "[encoded data removed]",
      "text/plain": [
       "<Figure size 1080x576 with 1 Axes>"
      ]
     },
     "metadata": {
      "needs_background": "light"
     },
     "output_type": "display_data"
    }
   ],
   "source": [
    "df.plot.box(figsize=(15,8))"
   ]
  },
  {
   "cell_type": "code",
   "execution_count": 5,
   "metadata": {},
   "outputs": [
    {
     "data": {
      "image/png": "[encoded data removed]",
      "text/plain": [
       "<Figure size 1080x1080 with 9 Axes>"
      ]
     },
     "metadata": {
      "needs_background": "light"
     },
     "output_type": "display_data"
    },
    {
     "data": {
      "text/plain": [
       "'\\nInsight: Glucose variable, we can see that among the non-diabetics (solid line), the\\ncurve has a normal distribution centered around the value 100. This tells us\\nthat among non-diabetics, most people have a blood glucose value of 100\\nmg/dL \\n\\nDiabetics (dashed line), the curve\\nis wider and is centered around a value of 150. This tells us that diabetics\\ntends to have a wider range of blood glucose value, and the average blood\\nglucose value is around 150 mg/dL\\n\\nNote: A similar analysis can also be made for the variable BMI and Age\\n'"
      ]
     },
     "execution_count": 5,
     "metadata": {},
     "output_type": "execute_result"
    }
   ],
   "source": [
    "# create a subplot of 3 x 3\n",
    "plt.subplots(3, 3, figsize=(15, 15))\n",
    "\n",
    "# Plot a density plot for each variable\n",
    "for idx, col in enumerate(df.columns):\n",
    "    ax = plt.subplot(3, 3, idx+1)\n",
    "    ax.yaxis.set_ticklabels([])\n",
    "    sns.distplot(df.loc[df.Outcome == 0][col], hist=False, axlabel=False, kde_kws={\n",
    "                                                                                    'linestyle': '-',\n",
    "                                                                                    'color': 'black',\n",
    "                                                                                    'label': 'No Diabetes'\n",
    "                                                                                    })\n",
    "    sns.distplot(df.loc[df.Outcome == 1][col], hist=False, axlabel=False, kde_kws={\n",
    "                                                                                    'linestyle': '--',\n",
    "                                                                                    'color': 'black',\n",
    "                                                                                    'label': 'Diabetes'\n",
    "                                                                                    })\n",
    "    ax.set_title(col)\n",
    "\n",
    "# Hide the 9th subplot (bottom right) since there are only 8 plots\n",
    "plt.subplot(3, 3, 9).set_visible(False)\n",
    "\n",
    "plt.show()\n",
    "\"\"\"\n",
    "Insight: Glucose variable, we can see that among the non-diabetics (solid line), the\n",
    "curve has a normal distribution centered around the value 100. This tells us\n",
    "that among non-diabetics, most people have a blood glucose value of 100\n",
    "mg/dL \n",
    "\n",
    "Diabetics (dashed line), the curve\n",
    "is wider and is centered around a value of 150. This tells us that diabetics\n",
    "tends to have a wider range of blood glucose value, and the average blood\n",
    "glucose value is around 150 mg/dL\n",
    "\n",
    "Note: A similar analysis can also be made for the variable BMI and Age\n",
    "\"\"\""
   ]
  },
  {
   "cell_type": "code",
   "execution_count": 6,
   "metadata": {},
   "outputs": [
    {
     "data": {
      "text/plain": [
       "'\\nvariables such as BloodPressure and SkinThickness, there is no significant difference in the distribution between\\ndiabetics and non-diabetics. The two groups of people tend to have similar blood pressure and skin thickness values. \\nTherefore, BloodPressure and SkinThickness are poorer predictors for diabetes.\\n'"
      ]
     },
     "execution_count": 6,
     "metadata": {},
     "output_type": "execute_result"
    }
   ],
   "source": [
    "\"\"\"\n",
    "variables such as BloodPressure and SkinThickness, there is no significant difference in the distribution between\n",
    "diabetics and non-diabetics. The two groups of people tend to have similar blood pressure and skin thickness values. \n",
    "Therefore, BloodPressure and SkinThickness are poorer predictors for diabetes.\n",
    "\"\"\""
   ]
  },
  {
   "cell_type": "markdown",
   "metadata": {},
   "source": [
    "# Data Preprocessing"
   ]
  },
  {
   "cell_type": "markdown",
   "metadata": {},
   "source": [
    "### Handling missing values"
   ]
  },
  {
   "cell_type": "code",
   "execution_count": 7,
   "metadata": {},
   "outputs": [
    {
     "data": {
      "text/plain": [
       "Pregnancies                 False\n",
       "Glucose                     False\n",
       "BloodPressure               False\n",
       "SkinThickness               False\n",
       "Insulin                     False\n",
       "BMI                         False\n",
       "DiabetesPedigreeFunction    False\n",
       "Age                         False\n",
       "Outcome                     False\n",
       "dtype: bool"
      ]
     },
     "execution_count": 7,
     "metadata": {},
     "output_type": "execute_result"
    }
   ],
   "source": [
    "# Checking if there's any null values in the dataset\n",
    "\n",
    "df.isnull().any()\n",
    "\n",
    "# Insight: It seems like there are no missing values in the dataset, but are we sure about these?"
   ]
  },
  {
   "cell_type": "code",
   "execution_count": 8,
   "metadata": {},
   "outputs": [
    {
     "data": {
      "text/html": [
       "<div>\n",
       "<style scoped>\n",
       "    .dataframe tbody tr th:only-of-type {\n",
       "        vertical-align: middle;\n",
       "    }\n",
       "\n",
       "    .dataframe tbody tr th {\n",
       "        vertical-align: top;\n",
       "    }\n",
       "\n",
       "    .dataframe thead th {\n",
       "        text-align: right;\n",
       "    }\n",
       "</style>\n",
       "<table border=\"1\" class=\"dataframe\">\n",
       "  <thead>\n",
       "    <tr style=\"text-align: right;\">\n",
       "      <th></th>\n",
       "      <th>Pregnancies</th>\n",
       "      <th>Glucose</th>\n",
       "      <th>BloodPressure</th>\n",
       "      <th>SkinThickness</th>\n",
       "      <th>Insulin</th>\n",
       "      <th>BMI</th>\n",
       "      <th>DiabetesPedigreeFunction</th>\n",
       "      <th>Age</th>\n",
       "      <th>Outcome</th>\n",
       "    </tr>\n",
       "  </thead>\n",
       "  <tbody>\n",
       "    <tr>\n",
       "      <th>count</th>\n",
       "      <td>768.000000</td>\n",
       "      <td>768.000000</td>\n",
       "      <td>768.000000</td>\n",
       "      <td>768.000000</td>\n",
       "      <td>768.000000</td>\n",
       "      <td>768.000000</td>\n",
       "      <td>768.000000</td>\n",
       "      <td>768.000000</td>\n",
       "      <td>768.000000</td>\n",
       "    </tr>\n",
       "    <tr>\n",
       "      <th>mean</th>\n",
       "      <td>3.845052</td>\n",
       "      <td>120.894531</td>\n",
       "      <td>69.105469</td>\n",
       "      <td>20.536458</td>\n",
       "      <td>79.799479</td>\n",
       "      <td>31.992578</td>\n",
       "      <td>0.471876</td>\n",
       "      <td>33.240885</td>\n",
       "      <td>0.348958</td>\n",
       "    </tr>\n",
       "    <tr>\n",
       "      <th>std</th>\n",
       "      <td>3.369578</td>\n",
       "      <td>31.972618</td>\n",
       "      <td>19.355807</td>\n",
       "      <td>15.952218</td>\n",
       "      <td>115.244002</td>\n",
       "      <td>7.884160</td>\n",
       "      <td>0.331329</td>\n",
       "      <td>11.760232</td>\n",
       "      <td>0.476951</td>\n",
       "    </tr>\n",
       "    <tr>\n",
       "      <th>min</th>\n",
       "      <td>0.000000</td>\n",
       "      <td>0.000000</td>\n",
       "      <td>0.000000</td>\n",
       "      <td>0.000000</td>\n",
       "      <td>0.000000</td>\n",
       "      <td>0.000000</td>\n",
       "      <td>0.078000</td>\n",
       "      <td>21.000000</td>\n",
       "      <td>0.000000</td>\n",
       "    </tr>\n",
       "    <tr>\n",
       "      <th>25%</th>\n",
       "      <td>1.000000</td>\n",
       "      <td>99.000000</td>\n",
       "      <td>62.000000</td>\n",
       "      <td>0.000000</td>\n",
       "      <td>0.000000</td>\n",
       "      <td>27.300000</td>\n",
       "      <td>0.243750</td>\n",
       "      <td>24.000000</td>\n",
       "      <td>0.000000</td>\n",
       "    </tr>\n",
       "    <tr>\n",
       "      <th>50%</th>\n",
       "      <td>3.000000</td>\n",
       "      <td>117.000000</td>\n",
       "      <td>72.000000</td>\n",
       "      <td>23.000000</td>\n",
       "      <td>30.500000</td>\n",
       "      <td>32.000000</td>\n",
       "      <td>0.372500</td>\n",
       "      <td>29.000000</td>\n",
       "      <td>0.000000</td>\n",
       "    </tr>\n",
       "    <tr>\n",
       "      <th>75%</th>\n",
       "      <td>6.000000</td>\n",
       "      <td>140.250000</td>\n",
       "      <td>80.000000</td>\n",
       "      <td>32.000000</td>\n",
       "      <td>127.250000</td>\n",
       "      <td>36.600000</td>\n",
       "      <td>0.626250</td>\n",
       "      <td>41.000000</td>\n",
       "      <td>1.000000</td>\n",
       "    </tr>\n",
       "    <tr>\n",
       "      <th>max</th>\n",
       "      <td>17.000000</td>\n",
       "      <td>199.000000</td>\n",
       "      <td>122.000000</td>\n",
       "      <td>99.000000</td>\n",
       "      <td>846.000000</td>\n",
       "      <td>67.100000</td>\n",
       "      <td>2.420000</td>\n",
       "      <td>81.000000</td>\n",
       "      <td>1.000000</td>\n",
       "    </tr>\n",
       "  </tbody>\n",
       "</table>\n",
       "</div>"
      ],
      "text/plain": [
       "       Pregnancies     Glucose  BloodPressure  SkinThickness     Insulin  \\\n",
       "count   768.000000  768.000000     768.000000     768.000000  768.000000   \n",
       "mean      3.845052  120.894531      69.105469      20.536458   79.799479   \n",
       "std       3.369578   31.972618      19.355807      15.952218  115.244002   \n",
       "min       0.000000    0.000000       0.000000       0.000000    0.000000   \n",
       "25%       1.000000   99.000000      62.000000       0.000000    0.000000   \n",
       "50%       3.000000  117.000000      72.000000      23.000000   30.500000   \n",
       "75%       6.000000  140.250000      80.000000      32.000000  127.250000   \n",
       "max      17.000000  199.000000     122.000000      99.000000  846.000000   \n",
       "\n",
       "              BMI  DiabetesPedigreeFunction         Age     Outcome  \n",
       "count  768.000000                768.000000  768.000000  768.000000  \n",
       "mean    31.992578                  0.471876   33.240885    0.348958  \n",
       "std      7.884160                  0.331329   11.760232    0.476951  \n",
       "min      0.000000                  0.078000   21.000000    0.000000  \n",
       "25%     27.300000                  0.243750   24.000000    0.000000  \n",
       "50%     32.000000                  0.372500   29.000000    0.000000  \n",
       "75%     36.600000                  0.626250   41.000000    1.000000  \n",
       "max     67.100000                  2.420000   81.000000    1.000000  "
      ]
     },
     "execution_count": 8,
     "metadata": {},
     "output_type": "execute_result"
    }
   ],
   "source": [
    "# Statistical summary of the dataset\n",
    "df.describe()"
   ]
  },
  {
   "cell_type": "markdown",
   "metadata": {},
   "source": [
    "```\n",
    "# Insight: \n",
    "There are 768 rows of data, and the Pregnancies, Glucose, BloodPressure, SkinThickness, Insulin, \n",
    "and BMI columns have a minimum value of 0.\n",
    "\n",
    "# Note: \n",
    "The measurements for Glucose, BloodPressure, SkinThickness, Insulin, and BMI should never be 0\n",
    "\n",
    "# Conclusions: \n",
    "This is an indication that there are missing values in the dataset.\n",
    "The values were probably recorded as 0 due to certain issues during data collection. Perhaps the equipment \n",
    "was faulty, or the patient was unwilling to have their measurements taken.\n",
    "```"
   ]
  },
  {
   "cell_type": "code",
   "execution_count": 9,
   "metadata": {},
   "outputs": [],
   "source": [
    "def data_contain_any_zero_values(df: pd.DataFrame):\n",
    "    print(\"Number of rows with 0 values for each variable\")\n",
    "    for col in df.columns:\n",
    "        missing_rows = df.loc[df[col]==0].shape[0]\n",
    "        print(col + ': ' + str(missing_rows))"
   ]
  },
  {
   "cell_type": "code",
   "execution_count": 10,
   "metadata": {},
   "outputs": [
    {
     "name": "stdout",
     "output_type": "stream",
     "text": [
      "Number of rows with 0 values for each variable\n",
      "Pregnancies: 111\n",
      "Glucose: 5\n",
      "BloodPressure: 35\n",
      "SkinThickness: 227\n",
      "Insulin: 374\n",
      "BMI: 11\n",
      "DiabetesPedigreeFunction: 0\n",
      "Age: 0\n",
      "Outcome: 500\n"
     ]
    }
   ],
   "source": [
    "data_contain_any_zero_values(df)"
   ]
  },
  {
   "cell_type": "code",
   "execution_count": 11,
   "metadata": {},
   "outputs": [],
   "source": [
    "# Insight:  In the Insulin column, there are 374 rows with 0 values. That is almost half of\n",
    "# the data that we have! Clearly, we cannot discard these rows with 0 values as that will \n",
    "# use a significant drop in model performance"
   ]
  },
  {
   "cell_type": "markdown",
   "metadata": {},
   "source": [
    "### Techniques to handle missing values\n",
    "1. Remove (discard) any rows with missing values.\n",
    "2. Replace the missing values with the mean/median/mode of the nonmissing values.\n",
    "3. Predict the actual values using a separate machine learning model."
   ]
  },
  {
   "cell_type": "markdown",
   "metadata": {},
   "source": [
    "#### Note\n",
    "The missing values comes from continuous variables such as Glucose,\n",
    "BloodPressure, SkinThickness, Insulin, and BMI, we will replace the missing values\n",
    "with the mean of the non-missing values.\n"
   ]
  },
  {
   "cell_type": "code",
   "execution_count": 12,
   "metadata": {},
   "outputs": [],
   "source": [
    "df['Glucose'] = df['Glucose'].replace(0, np.nan)\n",
    "df['BloodPressure'] = df['BloodPressure'].replace(0, np.nan)\n",
    "df['SkinThickness'] = df['SkinThickness'].replace(0, np.nan)\n",
    "df['Insulin'] = df['Insulin'].replace(0, np.nan)\n",
    "df['BMI'] = df['BMI'].replace(0, np.nan)"
   ]
  },
  {
   "cell_type": "code",
   "execution_count": 13,
   "metadata": {},
   "outputs": [
    {
     "name": "stdout",
     "output_type": "stream",
     "text": [
      "Number of rows with 0 values for each variable\n",
      "Pregnancies: 111\n",
      "Glucose: 0\n",
      "BloodPressure: 0\n",
      "SkinThickness: 0\n",
      "Insulin: 0\n",
      "BMI: 0\n",
      "DiabetesPedigreeFunction: 0\n",
      "Age: 0\n",
      "Outcome: 500\n"
     ]
    }
   ],
   "source": [
    "data_contain_any_zero_values(df)\n",
    "\n",
    "# Insight: we did not modify the Pregnancies column as 0 values in that column (that is, 0 previous pregnancies) are perfectly valid."
   ]
  },
  {
   "cell_type": "code",
   "execution_count": 14,
   "metadata": {},
   "outputs": [],
   "source": [
    "# Replaceing NaN values with the mean of the non-missing values\n",
    "df[\"Glucose\"] = df[\"Glucose\"].fillna(df[\"Glucose\"].mean())\n",
    "df[\"BloodPressure\"] = df[\"BloodPressure\"].fillna(df[\"BloodPressure\"].mean())\n",
    "df[\"SkinThickness\"] = df[\"SkinThickness\"].fillna(df[\"SkinThickness\"].mean())\n",
    "df[\"Insulin\"] = df[\"Insulin\"].fillna(df[\"Insulin\"].mean())\n",
    "df[\"BMI\"] = df[\"BMI\"].fillna(df[\"BMI\"].mean())"
   ]
  },
  {
   "cell_type": "markdown",
   "metadata": {},
   "source": [
    "## Data Standardization"
   ]
  },
  {
   "cell_type": "code",
   "execution_count": 15,
   "metadata": {},
   "outputs": [],
   "source": [
    "# Data standardization is another important technique in data preprocessing.\n",
    "# The goal of data standardization is to transform the numeric variables so that\n",
    "# each variable has zero mean and unit variance"
   ]
  },
  {
   "cell_type": "markdown",
   "metadata": {},
   "source": [
    "# Note\n",
    "In neural networks, it is important to standardize the data in order to ensure that the backpropagation algorithm\n",
    "works as intended. Another positive effect of data standardization is that it shrinks the magnitude of the variables, \n",
    "transforming them to a scale that is more proportional.\n",
    "\n",
    "variables such as Insulin and DiabetesPedigreeeFunction have vastly different scales; the maximum value for Insulin \n",
    "is 846 while the maximum value for DiabetesPedigreeeFunction is only 2.42. With such different scales, the variable \n",
    "with the greater scale tends to dominate when training the neural network, causing the neural network to inadvertently \n",
    "place more emphasis on the variable with a greater scale."
   ]
  },
  {
   "cell_type": "code",
   "execution_count": 17,
   "metadata": {},
   "outputs": [],
   "source": [
    "df_scaled = preprocessing.scale(df)\n",
    "\n",
    "# coverting df_scaled into dataframe object\n",
    "df_scaled = pd.DataFrame(df_scaled, columns=df.columns)\n",
    "\n",
    "# Using the origin Outcome column in the scaled data frame\n",
    "df_scaled['Outcome'] = df['Outcome']\n",
    "\n",
    "df = df_scaled"
   ]
  },
  {
   "cell_type": "code",
   "execution_count": 18,
   "metadata": {},
   "outputs": [
    {
     "data": {
      "text/html": [
       "<div>\n",
       "<style scoped>\n",
       "    .dataframe tbody tr th:only-of-type {\n",
       "        vertical-align: middle;\n",
       "    }\n",
       "\n",
       "    .dataframe tbody tr th {\n",
       "        vertical-align: top;\n",
       "    }\n",
       "\n",
       "    .dataframe thead th {\n",
       "        text-align: right;\n",
       "    }\n",
       "</style>\n",
       "<table border=\"1\" class=\"dataframe\">\n",
       "  <thead>\n",
       "    <tr style=\"text-align: right;\">\n",
       "      <th></th>\n",
       "      <th>Pregnancies</th>\n",
       "      <th>Glucose</th>\n",
       "      <th>BloodPressure</th>\n",
       "      <th>SkinThickness</th>\n",
       "      <th>Insulin</th>\n",
       "      <th>BMI</th>\n",
       "      <th>DiabetesPedigreeFunction</th>\n",
       "      <th>Age</th>\n",
       "      <th>Outcome</th>\n",
       "    </tr>\n",
       "  </thead>\n",
       "  <tbody>\n",
       "    <tr>\n",
       "      <th>mean</th>\n",
       "      <td>0.00</td>\n",
       "      <td>0.00</td>\n",
       "      <td>0.0</td>\n",
       "      <td>0.00</td>\n",
       "      <td>0.00</td>\n",
       "      <td>0.00</td>\n",
       "      <td>0.00</td>\n",
       "      <td>0.00</td>\n",
       "      <td>0.35</td>\n",
       "    </tr>\n",
       "    <tr>\n",
       "      <th>std</th>\n",
       "      <td>1.00</td>\n",
       "      <td>1.00</td>\n",
       "      <td>1.0</td>\n",
       "      <td>1.00</td>\n",
       "      <td>1.00</td>\n",
       "      <td>1.00</td>\n",
       "      <td>1.00</td>\n",
       "      <td>1.00</td>\n",
       "      <td>0.48</td>\n",
       "    </tr>\n",
       "    <tr>\n",
       "      <th>max</th>\n",
       "      <td>3.91</td>\n",
       "      <td>2.54</td>\n",
       "      <td>4.1</td>\n",
       "      <td>7.95</td>\n",
       "      <td>8.13</td>\n",
       "      <td>5.04</td>\n",
       "      <td>5.88</td>\n",
       "      <td>4.06</td>\n",
       "      <td>1.00</td>\n",
       "    </tr>\n",
       "  </tbody>\n",
       "</table>\n",
       "</div>"
      ],
      "text/plain": [
       "      Pregnancies  Glucose  BloodPressure  SkinThickness  Insulin   BMI  \\\n",
       "mean         0.00     0.00            0.0           0.00     0.00  0.00   \n",
       "std          1.00     1.00            1.0           1.00     1.00  1.00   \n",
       "max          3.91     2.54            4.1           7.95     8.13  5.04   \n",
       "\n",
       "      DiabetesPedigreeFunction   Age  Outcome  \n",
       "mean                      0.00  0.00     0.35  \n",
       "std                       1.00  1.00     0.48  \n",
       "max                       5.88  4.06     1.00  "
      ]
     },
     "execution_count": 18,
     "metadata": {},
     "output_type": "execute_result"
    }
   ],
   "source": [
    "df.describe().loc[['mean', 'std', 'max'], ].round(2).abs()"
   ]
  },
  {
   "cell_type": "markdown",
   "metadata": {},
   "source": [
    "# Spliting the data into training, testing, validation sets"
   ]
  },
  {
   "cell_type": "code",
   "execution_count": 20,
   "metadata": {},
   "outputs": [],
   "source": [
    "# ### Training set: \n",
    "# The neural network will be trained on this subset of the data.\n",
    "# ### Validation set: \n",
    "# This set of data allows us to perform hyperparameter tuning (that is, \n",
    "# tuning the number of hidden layers) using an unbiased source of data.\n",
    "# ### Testing set: \n",
    "# The final evaluation of the neural network will be based on this subset \n",
    "# of the data."
   ]
  },
  {
   "cell_type": "markdown",
   "metadata": {},
   "source": [
    "#### 80% training and 20% testing, and then to split the training data into 80% training and 20% validation again"
   ]
  },
  {
   "cell_type": "code",
   "execution_count": 22,
   "metadata": {},
   "outputs": [],
   "source": [
    "X = df.loc[:, df.columns != 'Outcome']\n",
    "y = df.loc[:, 'Outcome']"
   ]
  },
  {
   "cell_type": "code",
   "execution_count": 23,
   "metadata": {},
   "outputs": [],
   "source": [
    "# Train-Test split\n",
    "X_train, X_test, y_train, y_test = train_test_split(X, y, test_size=0.2)"
   ]
  },
  {
   "cell_type": "code",
   "execution_count": 24,
   "metadata": {},
   "outputs": [],
   "source": [
    "# Train-Validation split\n",
    "X_train, X_val, y_train, y_val = train_test_split(X_train, y_train, test_size=0.2)"
   ]
  },
  {
   "cell_type": "markdown",
   "metadata": {},
   "source": [
    "# Model Selection"
   ]
  },
  {
   "cell_type": "markdown",
   "metadata": {},
   "source": [
    "### Multi layer Perceptron (MLPs)"
   ]
  },
  {
   "cell_type": "markdown",
   "metadata": {},
   "source": [
    "An MLP is a class of feedforward neural network. This multilayer neural network architecture \n",
    "and non-linear activation allows MLPs to produce non-linear decision boundaries, which is crucial \n",
    "in multi-dimensional realworld datasets such as the Pima Indians Diabetes dataset."
   ]
  },
  {
   "cell_type": "markdown",
   "metadata": {},
   "source": [
    "## Model architecture"
   ]
  },
  {
   "cell_type": "markdown",
   "metadata": {},
   "source": [
    "| Input Layer -> | 1st Hidden Layer ->| 2nd Hidden Layer -> | Output Layer |\n",
    ":--------------|:----------------------|:--------------|:----------------------|"
   ]
  },
  {
   "cell_type": "markdown",
   "metadata": {},
   "source": [
    "### Activation functions\n",
    "1. ReLU\n",
    "2. Sigmoid\n",
    "\n",
    "##### ReLU (Rectified Linear Unit)\n",
    "ReLU is always used as the activation function for our intermediate hidden layers (that is, non-output layer)\n",
    "\n",
    "##### Sigmoid\n",
    "It squashes the output between 0 and 1 (binary output)."
   ]
  },
  {
   "cell_type": "markdown",
   "metadata": {},
   "source": [
    "# Model Building"
   ]
  },
  {
   "cell_type": "code",
   "execution_count": 28,
   "metadata": {},
   "outputs": [
    {
     "name": "stdout",
     "output_type": "stream",
     "text": [
      "WARNING:tensorflow:From /home/rezwanul/anaconda3/envs/nn-env/lib/python3.7/site-packages/keras/backend/tensorflow_backend.py:74: The name tf.get_default_graph is deprecated. Please use tf.compat.v1.get_default_graph instead.\n",
      "\n"
     ]
    }
   ],
   "source": [
    "model = Sequential()"
   ]
  },
  {
   "cell_type": "code",
   "execution_count": 31,
   "metadata": {},
   "outputs": [],
   "source": [
    "# Add the first hidden layer\n",
    "model.add(Dense(32, activation='relu', input_dim=8))\n",
    "\n",
    "# Add the second hidden layer\n",
    "model.add(Dense(16, activation='relu'))\n",
    "\n",
    "# Add the output layer\n",
    "model.add(Dense(1, activation='sigmoid'))"
   ]
  },
  {
   "cell_type": "markdown",
   "metadata": {},
   "source": [
    "# Model compilation"
   ]
  },
  {
   "cell_type": "markdown",
   "metadata": {},
   "source": [
    "#### Optimizer: \n",
    "Let's use the adam optimizer, which is a popular optimizer in Keras. \n",
    "For most datasets, the adam optimizer will work well without much\n",
    "tuning.\n",
    "#### Loss function: \n",
    "We'll use binary_crossentropy as our loss function since the\n",
    "problem at hand is a binary classification problem.\n",
    "#### Metrics: \n",
    "We'll use accuracy (that is, the percentage of correctly classified\n",
    "samples) as our evaluation metric."
   ]
  },
  {
   "cell_type": "code",
   "execution_count": 32,
   "metadata": {},
   "outputs": [
    {
     "name": "stdout",
     "output_type": "stream",
     "text": [
      "WARNING:tensorflow:From /home/rezwanul/anaconda3/envs/nn-env/lib/python3.7/site-packages/keras/optimizers.py:790: The name tf.train.Optimizer is deprecated. Please use tf.compat.v1.train.Optimizer instead.\n",
      "\n",
      "WARNING:tensorflow:From /home/rezwanul/anaconda3/envs/nn-env/lib/python3.7/site-packages/keras/backend/tensorflow_backend.py:3376: The name tf.log is deprecated. Please use tf.math.log instead.\n",
      "\n",
      "WARNING:tensorflow:From /home/rezwanul/anaconda3/envs/nn-env/lib/python3.7/site-packages/tensorflow/python/ops/nn_impl.py:180: add_dispatch_support.<locals>.wrapper (from tensorflow.python.ops.array_ops) is deprecated and will be removed in a future version.\n",
      "Instructions for updating:\n",
      "Use tf.where in 2.0, which has the same broadcast rule as np.where\n"
     ]
    }
   ],
   "source": [
    "# Compile the model\n",
    "model.compile(optimizer='adam',\n",
    "              loss='binary_crossentropy',\n",
    "              metrics=['accuracy']\n",
    "             )"
   ]
  },
  {
   "cell_type": "markdown",
   "metadata": {},
   "source": [
    "# Model Training"
   ]
  },
  {
   "cell_type": "code",
   "execution_count": 33,
   "metadata": {},
   "outputs": [
    {
     "name": "stdout",
     "output_type": "stream",
     "text": [
      "WARNING:tensorflow:From /home/rezwanul/anaconda3/envs/nn-env/lib/python3.7/site-packages/keras/backend/tensorflow_backend.py:986: The name tf.assign_add is deprecated. Please use tf.compat.v1.assign_add instead.\n",
      "\n",
      "Epoch 1/200\n",
      "491/491 [==============================] - 1s 2ms/step - loss: 0.6548 - acc: 0.6945\n",
      "Epoch 2/200\n",
      "491/491 [==============================] - 0s 170us/step - loss: 0.5909 - acc: 0.7454\n",
      "Epoch 3/200\n",
      "491/491 [==============================] - 0s 179us/step - loss: 0.5233 - acc: 0.7515\n",
      "Epoch 4/200\n",
      "491/491 [==============================] - 0s 164us/step - loss: 0.4748 - acc: 0.7637\n",
      "Epoch 5/200\n",
      "491/491 [==============================] - 0s 126us/step - loss: 0.4506 - acc: 0.7678\n",
      "Epoch 6/200\n",
      "491/491 [==============================] - 0s 133us/step - loss: 0.4368 - acc: 0.7760\n",
      "Epoch 7/200\n",
      "491/491 [==============================] - 0s 138us/step - loss: 0.4302 - acc: 0.7923\n",
      "Epoch 8/200\n",
      "491/491 [==============================] - 0s 189us/step - loss: 0.4239 - acc: 0.7984\n",
      "Epoch 9/200\n",
      "491/491 [==============================] - 0s 293us/step - loss: 0.4179 - acc: 0.7984\n",
      "Epoch 10/200\n",
      "491/491 [==============================] - 0s 304us/step - loss: 0.4140 - acc: 0.7984\n",
      "Epoch 11/200\n",
      "491/491 [==============================] - 0s 205us/step - loss: 0.4083 - acc: 0.7943\n",
      "Epoch 12/200\n",
      "491/491 [==============================] - 0s 198us/step - loss: 0.4055 - acc: 0.7963\n",
      "Epoch 13/200\n",
      "491/491 [==============================] - 0s 175us/step - loss: 0.4011 - acc: 0.8004\n",
      "Epoch 14/200\n",
      "491/491 [==============================] - 0s 406us/step - loss: 0.3984 - acc: 0.8045\n",
      "Epoch 15/200\n",
      "491/491 [==============================] - 0s 258us/step - loss: 0.3944 - acc: 0.8065\n",
      "Epoch 16/200\n",
      "491/491 [==============================] - 0s 175us/step - loss: 0.3927 - acc: 0.8086\n",
      "Epoch 17/200\n",
      "491/491 [==============================] - 0s 322us/step - loss: 0.3891 - acc: 0.8106\n",
      "Epoch 18/200\n",
      "491/491 [==============================] - 0s 172us/step - loss: 0.3858 - acc: 0.8147\n",
      "Epoch 19/200\n",
      "491/491 [==============================] - 0s 107us/step - loss: 0.3827 - acc: 0.8106\n",
      "Epoch 20/200\n",
      "491/491 [==============================] - 0s 369us/step - loss: 0.3784 - acc: 0.8167\n",
      "Epoch 21/200\n",
      "491/491 [==============================] - 0s 138us/step - loss: 0.3774 - acc: 0.8187\n",
      "Epoch 22/200\n",
      "491/491 [==============================] - 0s 130us/step - loss: 0.3738 - acc: 0.8310\n",
      "Epoch 23/200\n",
      "491/491 [==============================] - 0s 298us/step - loss: 0.3735 - acc: 0.8289\n",
      "Epoch 24/200\n",
      "491/491 [==============================] - 0s 185us/step - loss: 0.3669 - acc: 0.8350\n",
      "Epoch 25/200\n",
      "491/491 [==============================] - 0s 320us/step - loss: 0.3650 - acc: 0.8432\n",
      "Epoch 26/200\n",
      "491/491 [==============================] - 0s 229us/step - loss: 0.3597 - acc: 0.8330\n",
      "Epoch 27/200\n",
      "491/491 [==============================] - 0s 199us/step - loss: 0.3583 - acc: 0.8411\n",
      "Epoch 28/200\n",
      "491/491 [==============================] - 0s 194us/step - loss: 0.3567 - acc: 0.8391\n",
      "Epoch 29/200\n",
      "491/491 [==============================] - 0s 139us/step - loss: 0.3533 - acc: 0.8350\n",
      "Epoch 30/200\n",
      "491/491 [==============================] - 0s 180us/step - loss: 0.3503 - acc: 0.8411\n",
      "Epoch 31/200\n",
      "491/491 [==============================] - 0s 122us/step - loss: 0.3436 - acc: 0.8452\n",
      "Epoch 32/200\n",
      "491/491 [==============================] - 0s 189us/step - loss: 0.3393 - acc: 0.8473\n",
      "Epoch 33/200\n",
      "491/491 [==============================] - 0s 274us/step - loss: 0.3392 - acc: 0.8473\n",
      "Epoch 34/200\n",
      "491/491 [==============================] - 0s 268us/step - loss: 0.3308 - acc: 0.8493\n",
      "Epoch 35/200\n",
      "491/491 [==============================] - 0s 127us/step - loss: 0.3296 - acc: 0.8534\n",
      "Epoch 36/200\n",
      "491/491 [==============================] - 0s 157us/step - loss: 0.3257 - acc: 0.8615\n",
      "Epoch 37/200\n",
      "491/491 [==============================] - 0s 173us/step - loss: 0.3216 - acc: 0.8554\n",
      "Epoch 38/200\n",
      "491/491 [==============================] - 0s 274us/step - loss: 0.3176 - acc: 0.8615\n",
      "Epoch 39/200\n",
      "491/491 [==============================] - 0s 210us/step - loss: 0.3144 - acc: 0.8595\n",
      "Epoch 40/200\n",
      "491/491 [==============================] - 0s 221us/step - loss: 0.3126 - acc: 0.8574\n",
      "Epoch 41/200\n",
      "491/491 [==============================] - 0s 211us/step - loss: 0.3079 - acc: 0.8615\n",
      "Epoch 42/200\n",
      "491/491 [==============================] - 0s 147us/step - loss: 0.3039 - acc: 0.8615\n",
      "Epoch 43/200\n",
      "491/491 [==============================] - 0s 204us/step - loss: 0.3009 - acc: 0.8758\n",
      "Epoch 44/200\n",
      "491/491 [==============================] - 0s 226us/step - loss: 0.2980 - acc: 0.8615\n",
      "Epoch 45/200\n",
      "491/491 [==============================] - 0s 234us/step - loss: 0.2923 - acc: 0.8778\n",
      "Epoch 46/200\n",
      "491/491 [==============================] - 0s 252us/step - loss: 0.2907 - acc: 0.8717\n",
      "Epoch 47/200\n",
      "491/491 [==============================] - 0s 254us/step - loss: 0.2872 - acc: 0.8697\n",
      "Epoch 48/200\n",
      "491/491 [==============================] - 0s 173us/step - loss: 0.2819 - acc: 0.8737\n",
      "Epoch 49/200\n",
      "491/491 [==============================] - 0s 156us/step - loss: 0.2846 - acc: 0.8798\n",
      "Epoch 50/200\n",
      "491/491 [==============================] - 0s 208us/step - loss: 0.2758 - acc: 0.8758\n",
      "Epoch 51/200\n",
      "491/491 [==============================] - 0s 204us/step - loss: 0.2691 - acc: 0.8717\n",
      "Epoch 52/200\n",
      "491/491 [==============================] - 0s 336us/step - loss: 0.2674 - acc: 0.8839\n",
      "Epoch 53/200\n",
      "491/491 [==============================] - 0s 268us/step - loss: 0.2620 - acc: 0.8880\n",
      "Epoch 54/200\n",
      "491/491 [==============================] - 0s 226us/step - loss: 0.2630 - acc: 0.8819\n",
      "Epoch 55/200\n",
      "491/491 [==============================] - 0s 100us/step - loss: 0.2546 - acc: 0.8880\n",
      "Epoch 56/200\n",
      "491/491 [==============================] - 0s 102us/step - loss: 0.2552 - acc: 0.8941\n",
      "Epoch 57/200\n",
      "491/491 [==============================] - 0s 131us/step - loss: 0.2488 - acc: 0.8941\n",
      "Epoch 58/200\n",
      "491/491 [==============================] - 0s 106us/step - loss: 0.2456 - acc: 0.8921\n",
      "Epoch 59/200\n",
      "491/491 [==============================] - 0s 101us/step - loss: 0.2425 - acc: 0.8961\n",
      "Epoch 60/200\n",
      "491/491 [==============================] - 0s 121us/step - loss: 0.2445 - acc: 0.9002\n",
      "Epoch 61/200\n",
      "491/491 [==============================] - 0s 154us/step - loss: 0.2390 - acc: 0.8961\n",
      "Epoch 62/200\n",
      "491/491 [==============================] - 0s 283us/step - loss: 0.2344 - acc: 0.9124\n",
      "Epoch 63/200\n",
      "491/491 [==============================] - 0s 208us/step - loss: 0.2309 - acc: 0.9063\n",
      "Epoch 64/200\n",
      "491/491 [==============================] - 0s 164us/step - loss: 0.2279 - acc: 0.9022\n",
      "Epoch 65/200\n",
      "491/491 [==============================] - 0s 125us/step - loss: 0.2286 - acc: 0.9022\n",
      "Epoch 66/200\n",
      "491/491 [==============================] - 0s 160us/step - loss: 0.2340 - acc: 0.9063\n",
      "Epoch 67/200\n",
      "491/491 [==============================] - 0s 107us/step - loss: 0.2230 - acc: 0.9124\n",
      "Epoch 68/200\n",
      "491/491 [==============================] - 0s 175us/step - loss: 0.2178 - acc: 0.9084\n",
      "Epoch 69/200\n",
      "491/491 [==============================] - 0s 284us/step - loss: 0.2141 - acc: 0.9165\n",
      "Epoch 70/200\n",
      "491/491 [==============================] - 0s 134us/step - loss: 0.2127 - acc: 0.9246\n",
      "Epoch 71/200\n",
      "491/491 [==============================] - 0s 220us/step - loss: 0.2076 - acc: 0.9226\n",
      "Epoch 72/200\n",
      "491/491 [==============================] - 0s 106us/step - loss: 0.2061 - acc: 0.9084\n",
      "Epoch 73/200\n",
      "491/491 [==============================] - 0s 327us/step - loss: 0.2033 - acc: 0.9165\n",
      "Epoch 74/200\n",
      "491/491 [==============================] - 0s 251us/step - loss: 0.2014 - acc: 0.9165\n",
      "Epoch 75/200\n",
      "491/491 [==============================] - 0s 200us/step - loss: 0.1939 - acc: 0.9348\n",
      "Epoch 76/200\n",
      "491/491 [==============================] - 0s 131us/step - loss: 0.1912 - acc: 0.9328\n",
      "Epoch 77/200\n",
      "491/491 [==============================] - 0s 166us/step - loss: 0.1918 - acc: 0.9267\n",
      "Epoch 78/200\n",
      "491/491 [==============================] - 0s 140us/step - loss: 0.1877 - acc: 0.9348\n",
      "Epoch 79/200\n",
      "491/491 [==============================] - 0s 133us/step - loss: 0.1854 - acc: 0.9226\n",
      "Epoch 80/200\n",
      "491/491 [==============================] - 0s 139us/step - loss: 0.1809 - acc: 0.9328\n",
      "Epoch 81/200\n",
      "491/491 [==============================] - 0s 159us/step - loss: 0.1803 - acc: 0.9348\n",
      "Epoch 82/200\n",
      "491/491 [==============================] - 0s 125us/step - loss: 0.1749 - acc: 0.9226\n",
      "Epoch 83/200\n",
      "491/491 [==============================] - 0s 119us/step - loss: 0.1715 - acc: 0.9348\n",
      "Epoch 84/200\n",
      "491/491 [==============================] - 0s 112us/step - loss: 0.1673 - acc: 0.9369\n",
      "Epoch 85/200\n",
      "491/491 [==============================] - 0s 174us/step - loss: 0.1666 - acc: 0.9348\n",
      "Epoch 86/200\n",
      "491/491 [==============================] - 0s 174us/step - loss: 0.1672 - acc: 0.9430\n",
      "Epoch 87/200\n",
      "491/491 [==============================] - 0s 143us/step - loss: 0.1597 - acc: 0.9409\n",
      "Epoch 88/200\n",
      "491/491 [==============================] - 0s 148us/step - loss: 0.1552 - acc: 0.9409\n",
      "Epoch 89/200\n",
      "491/491 [==============================] - 0s 171us/step - loss: 0.1577 - acc: 0.9348\n",
      "Epoch 90/200\n",
      "491/491 [==============================] - 0s 142us/step - loss: 0.1559 - acc: 0.9328\n",
      "Epoch 91/200\n",
      "491/491 [==============================] - 0s 168us/step - loss: 0.1482 - acc: 0.9450\n",
      "Epoch 92/200\n",
      "491/491 [==============================] - 0s 157us/step - loss: 0.1463 - acc: 0.9450\n",
      "Epoch 93/200\n",
      "491/491 [==============================] - 0s 143us/step - loss: 0.1480 - acc: 0.9389\n",
      "Epoch 94/200\n",
      "491/491 [==============================] - 0s 141us/step - loss: 0.1401 - acc: 0.9470\n",
      "Epoch 95/200\n",
      "491/491 [==============================] - 0s 202us/step - loss: 0.1412 - acc: 0.9409\n",
      "Epoch 96/200\n",
      "491/491 [==============================] - 0s 182us/step - loss: 0.1366 - acc: 0.9532\n",
      "Epoch 97/200\n",
      "491/491 [==============================] - 0s 127us/step - loss: 0.1355 - acc: 0.9552\n",
      "Epoch 98/200\n",
      "491/491 [==============================] - 0s 199us/step - loss: 0.1358 - acc: 0.9532\n",
      "Epoch 99/200\n",
      "491/491 [==============================] - 0s 139us/step - loss: 0.1295 - acc: 0.9532\n",
      "Epoch 100/200\n",
      "491/491 [==============================] - 0s 183us/step - loss: 0.1263 - acc: 0.9593\n",
      "Epoch 101/200\n",
      "491/491 [==============================] - 0s 150us/step - loss: 0.1207 - acc: 0.9572\n",
      "Epoch 102/200\n",
      "491/491 [==============================] - 0s 146us/step - loss: 0.1222 - acc: 0.9593\n",
      "Epoch 103/200\n",
      "491/491 [==============================] - 0s 247us/step - loss: 0.1175 - acc: 0.9654\n",
      "Epoch 104/200\n",
      "491/491 [==============================] - 0s 187us/step - loss: 0.1183 - acc: 0.9613\n",
      "Epoch 105/200\n",
      "491/491 [==============================] - 0s 146us/step - loss: 0.1100 - acc: 0.9654\n",
      "Epoch 106/200\n",
      "491/491 [==============================] - 0s 133us/step - loss: 0.1155 - acc: 0.9613\n",
      "Epoch 107/200\n",
      "491/491 [==============================] - 0s 135us/step - loss: 0.1101 - acc: 0.9715\n",
      "Epoch 108/200\n",
      "491/491 [==============================] - 0s 121us/step - loss: 0.1078 - acc: 0.9654\n",
      "Epoch 109/200\n",
      "491/491 [==============================] - 0s 107us/step - loss: 0.1032 - acc: 0.9715\n",
      "Epoch 110/200\n",
      "491/491 [==============================] - 0s 97us/step - loss: 0.0985 - acc: 0.9695\n",
      "Epoch 111/200\n",
      "491/491 [==============================] - 0s 96us/step - loss: 0.0955 - acc: 0.9756\n",
      "Epoch 112/200\n",
      "491/491 [==============================] - 0s 111us/step - loss: 0.0962 - acc: 0.9756\n",
      "Epoch 113/200\n",
      "491/491 [==============================] - 0s 97us/step - loss: 0.0930 - acc: 0.9796\n",
      "Epoch 114/200\n",
      "491/491 [==============================] - 0s 103us/step - loss: 0.0943 - acc: 0.9756\n",
      "Epoch 115/200\n",
      "491/491 [==============================] - 0s 154us/step - loss: 0.0922 - acc: 0.9776\n",
      "Epoch 116/200\n",
      "491/491 [==============================] - 0s 203us/step - loss: 0.0872 - acc: 0.9756\n",
      "Epoch 117/200\n",
      "491/491 [==============================] - 0s 168us/step - loss: 0.0836 - acc: 0.9817\n",
      "Epoch 118/200\n",
      "491/491 [==============================] - 0s 251us/step - loss: 0.0813 - acc: 0.9817\n",
      "Epoch 119/200\n",
      "491/491 [==============================] - 0s 299us/step - loss: 0.0818 - acc: 0.9817\n",
      "Epoch 120/200\n",
      "491/491 [==============================] - 0s 332us/step - loss: 0.0814 - acc: 0.9756\n",
      "Epoch 121/200\n",
      "491/491 [==============================] - 0s 246us/step - loss: 0.0813 - acc: 0.9796\n",
      "Epoch 122/200\n",
      "491/491 [==============================] - 0s 176us/step - loss: 0.0784 - acc: 0.9857\n",
      "Epoch 123/200\n",
      "491/491 [==============================] - 0s 185us/step - loss: 0.0760 - acc: 0.9796\n",
      "Epoch 124/200\n",
      "491/491 [==============================] - 0s 181us/step - loss: 0.0708 - acc: 0.9857\n",
      "Epoch 125/200\n",
      "491/491 [==============================] - 0s 301us/step - loss: 0.0728 - acc: 0.9837\n",
      "Epoch 126/200\n",
      "491/491 [==============================] - 0s 244us/step - loss: 0.0687 - acc: 0.9857\n",
      "Epoch 127/200\n",
      "491/491 [==============================] - 0s 168us/step - loss: 0.0684 - acc: 0.9837\n",
      "Epoch 128/200\n",
      "491/491 [==============================] - 0s 155us/step - loss: 0.0648 - acc: 0.9878\n",
      "Epoch 129/200\n",
      "491/491 [==============================] - 0s 183us/step - loss: 0.0635 - acc: 0.9919\n",
      "Epoch 130/200\n",
      "491/491 [==============================] - 0s 176us/step - loss: 0.0600 - acc: 0.9919\n",
      "Epoch 131/200\n",
      "491/491 [==============================] - 0s 161us/step - loss: 0.0597 - acc: 0.9898\n",
      "Epoch 132/200\n",
      "491/491 [==============================] - 0s 183us/step - loss: 0.0584 - acc: 0.9919\n",
      "Epoch 133/200\n",
      "491/491 [==============================] - 0s 136us/step - loss: 0.0574 - acc: 0.9898\n",
      "Epoch 134/200\n",
      "491/491 [==============================] - 0s 218us/step - loss: 0.0555 - acc: 0.9898\n",
      "Epoch 135/200\n",
      "491/491 [==============================] - 0s 157us/step - loss: 0.0533 - acc: 0.9959\n",
      "Epoch 136/200\n",
      "491/491 [==============================] - 0s 169us/step - loss: 0.0515 - acc: 0.9939\n",
      "Epoch 137/200\n",
      "491/491 [==============================] - 0s 175us/step - loss: 0.0521 - acc: 0.9959\n",
      "Epoch 138/200\n",
      "491/491 [==============================] - 0s 154us/step - loss: 0.0511 - acc: 0.9939\n",
      "Epoch 139/200\n",
      "491/491 [==============================] - 0s 226us/step - loss: 0.0502 - acc: 0.9919\n",
      "Epoch 140/200\n",
      "491/491 [==============================] - 0s 189us/step - loss: 0.0505 - acc: 0.9919\n",
      "Epoch 141/200\n",
      "491/491 [==============================] - 0s 151us/step - loss: 0.0459 - acc: 0.9959\n",
      "Epoch 142/200\n",
      "491/491 [==============================] - 0s 128us/step - loss: 0.0451 - acc: 0.9959\n",
      "Epoch 143/200\n",
      "491/491 [==============================] - 0s 106us/step - loss: 0.0472 - acc: 0.9939\n",
      "Epoch 144/200\n",
      "491/491 [==============================] - 0s 115us/step - loss: 0.0453 - acc: 0.9980\n",
      "Epoch 145/200\n",
      "491/491 [==============================] - 0s 139us/step - loss: 0.0395 - acc: 0.9980\n",
      "Epoch 146/200\n",
      "491/491 [==============================] - 0s 109us/step - loss: 0.0390 - acc: 0.9959\n",
      "Epoch 147/200\n",
      "491/491 [==============================] - 0s 132us/step - loss: 0.0381 - acc: 0.9980\n",
      "Epoch 148/200\n",
      "491/491 [==============================] - 0s 117us/step - loss: 0.0387 - acc: 0.9959\n",
      "Epoch 149/200\n",
      "491/491 [==============================] - 0s 135us/step - loss: 0.0362 - acc: 0.9980\n",
      "Epoch 150/200\n",
      "491/491 [==============================] - 0s 123us/step - loss: 0.0360 - acc: 0.9980\n",
      "Epoch 151/200\n",
      "491/491 [==============================] - 0s 139us/step - loss: 0.0336 - acc: 0.9980\n",
      "Epoch 152/200\n",
      "491/491 [==============================] - 0s 146us/step - loss: 0.0343 - acc: 0.9980\n",
      "Epoch 153/200\n",
      "491/491 [==============================] - 0s 100us/step - loss: 0.0328 - acc: 0.9980\n",
      "Epoch 154/200\n",
      "491/491 [==============================] - 0s 122us/step - loss: 0.0319 - acc: 0.9980\n",
      "Epoch 155/200\n",
      "491/491 [==============================] - 0s 138us/step - loss: 0.0302 - acc: 0.9980\n",
      "Epoch 156/200\n",
      "491/491 [==============================] - 0s 143us/step - loss: 0.0305 - acc: 0.9980\n",
      "Epoch 157/200\n",
      "491/491 [==============================] - 0s 107us/step - loss: 0.0296 - acc: 0.9980\n",
      "Epoch 158/200\n",
      "491/491 [==============================] - 0s 111us/step - loss: 0.0285 - acc: 0.9980\n",
      "Epoch 159/200\n",
      "491/491 [==============================] - 0s 107us/step - loss: 0.0275 - acc: 0.9959\n",
      "Epoch 160/200\n",
      "491/491 [==============================] - 0s 105us/step - loss: 0.0272 - acc: 0.9980\n",
      "Epoch 161/200\n",
      "491/491 [==============================] - 0s 99us/step - loss: 0.0287 - acc: 0.9980\n",
      "Epoch 162/200\n",
      "491/491 [==============================] - 0s 115us/step - loss: 0.0274 - acc: 0.9980\n",
      "Epoch 163/200\n",
      "491/491 [==============================] - 0s 125us/step - loss: 0.0270 - acc: 0.9980\n",
      "Epoch 164/200\n",
      "491/491 [==============================] - 0s 102us/step - loss: 0.0243 - acc: 0.9980\n",
      "Epoch 165/200\n",
      "491/491 [==============================] - 0s 102us/step - loss: 0.0231 - acc: 0.9980\n",
      "Epoch 166/200\n",
      "491/491 [==============================] - 0s 150us/step - loss: 0.0220 - acc: 0.9980\n",
      "Epoch 167/200\n",
      "491/491 [==============================] - 0s 97us/step - loss: 0.0213 - acc: 0.9980\n",
      "Epoch 168/200\n",
      "491/491 [==============================] - 0s 102us/step - loss: 0.0217 - acc: 0.9980\n",
      "Epoch 169/200\n",
      "491/491 [==============================] - 0s 108us/step - loss: 0.0206 - acc: 1.0000\n",
      "Epoch 170/200\n",
      "491/491 [==============================] - 0s 101us/step - loss: 0.0208 - acc: 1.0000\n",
      "Epoch 171/200\n",
      "491/491 [==============================] - 0s 97us/step - loss: 0.0199 - acc: 1.0000\n",
      "Epoch 172/200\n",
      "491/491 [==============================] - 0s 202us/step - loss: 0.0192 - acc: 1.0000\n",
      "Epoch 173/200\n",
      "491/491 [==============================] - 0s 99us/step - loss: 0.0183 - acc: 1.0000\n",
      "Epoch 174/200\n",
      "491/491 [==============================] - 0s 112us/step - loss: 0.0192 - acc: 0.9980\n",
      "Epoch 175/200\n",
      "491/491 [==============================] - 0s 101us/step - loss: 0.0196 - acc: 1.0000\n",
      "Epoch 176/200\n",
      "491/491 [==============================] - 0s 104us/step - loss: 0.0181 - acc: 1.0000\n",
      "Epoch 177/200\n",
      "491/491 [==============================] - 0s 103us/step - loss: 0.0170 - acc: 1.0000\n",
      "Epoch 178/200\n",
      "491/491 [==============================] - 0s 106us/step - loss: 0.0175 - acc: 1.0000\n",
      "Epoch 179/200\n",
      "491/491 [==============================] - 0s 102us/step - loss: 0.0175 - acc: 1.0000\n",
      "Epoch 180/200\n",
      "491/491 [==============================] - 0s 129us/step - loss: 0.0168 - acc: 1.0000\n",
      "Epoch 181/200\n",
      "491/491 [==============================] - 0s 100us/step - loss: 0.0153 - acc: 1.0000\n",
      "Epoch 182/200\n",
      "491/491 [==============================] - 0s 99us/step - loss: 0.0167 - acc: 0.9980\n",
      "Epoch 183/200\n",
      "491/491 [==============================] - 0s 99us/step - loss: 0.0159 - acc: 1.0000\n",
      "Epoch 184/200\n",
      "491/491 [==============================] - 0s 99us/step - loss: 0.0144 - acc: 1.0000\n",
      "Epoch 185/200\n",
      "491/491 [==============================] - 0s 130us/step - loss: 0.0138 - acc: 1.0000\n",
      "Epoch 186/200\n",
      "491/491 [==============================] - 0s 147us/step - loss: 0.0136 - acc: 1.0000\n",
      "Epoch 187/200\n",
      "491/491 [==============================] - 0s 152us/step - loss: 0.0136 - acc: 1.0000\n",
      "Epoch 188/200\n",
      "491/491 [==============================] - 0s 330us/step - loss: 0.0128 - acc: 1.0000\n",
      "Epoch 189/200\n",
      "491/491 [==============================] - 0s 241us/step - loss: 0.0132 - acc: 1.0000\n",
      "Epoch 190/200\n",
      "491/491 [==============================] - 0s 190us/step - loss: 0.0134 - acc: 1.0000\n",
      "Epoch 191/200\n",
      "491/491 [==============================] - 0s 148us/step - loss: 0.0125 - acc: 1.0000\n",
      "Epoch 192/200\n",
      "491/491 [==============================] - 0s 143us/step - loss: 0.0123 - acc: 1.0000\n",
      "Epoch 193/200\n",
      "491/491 [==============================] - 0s 170us/step - loss: 0.0113 - acc: 1.0000\n",
      "Epoch 194/200\n",
      "491/491 [==============================] - 0s 152us/step - loss: 0.0113 - acc: 1.0000\n",
      "Epoch 195/200\n",
      "491/491 [==============================] - 0s 124us/step - loss: 0.0110 - acc: 1.0000\n",
      "Epoch 196/200\n",
      "491/491 [==============================] - 0s 101us/step - loss: 0.0106 - acc: 1.0000\n",
      "Epoch 197/200\n",
      "491/491 [==============================] - 0s 208us/step - loss: 0.0105 - acc: 1.0000\n",
      "Epoch 198/200\n",
      "491/491 [==============================] - 0s 106us/step - loss: 0.0108 - acc: 1.0000\n",
      "Epoch 199/200\n",
      "491/491 [==============================] - 0s 97us/step - loss: 0.0101 - acc: 1.0000\n",
      "Epoch 200/200\n",
      "491/491 [==============================] - 0s 156us/step - loss: 0.0098 - acc: 1.0000\n"
     ]
    },
    {
     "data": {
      "text/plain": [
       "<keras.callbacks.History at 0x7ff8313c4210>"
      ]
     },
     "execution_count": 33,
     "metadata": {},
     "output_type": "execute_result"
    }
   ],
   "source": [
    "# Train the model for 200 epochs\n",
    "model.fit(X_train, y_train, epochs=200)"
   ]
  },
  {
   "cell_type": "markdown",
   "metadata": {},
   "source": [
    "# Result Analysis"
   ]
  },
  {
   "cell_type": "code",
   "execution_count": 34,
   "metadata": {},
   "outputs": [],
   "source": [
    "# Having successfully trained our MLP, let's evaluate our model based on the\n",
    "# testing accuracy, confusion matrix, and receiver operating characteristic\n",
    "# (ROC) curve."
   ]
  },
  {
   "cell_type": "markdown",
   "metadata": {},
   "source": [
    "### Testing accuracy"
   ]
  },
  {
   "cell_type": "code",
   "execution_count": 39,
   "metadata": {},
   "outputs": [
    {
     "name": "stdout",
     "output_type": "stream",
     "text": [
      "491/491 [==============================] - 0s 307us/step\n",
      "Training Accuracy: 100.0\n",
      "\n",
      "154/154 [==============================] - 0s 44us/step\n",
      "Testing Accuracy: 66.88311703793414\n",
      "\n"
     ]
    }
   ],
   "source": [
    "scores = model.evaluate(X_train, y_train)\n",
    "print(f\"Training Accuracy: {scores[1] * 100}\\n\")\n",
    "\n",
    "scores = model.evaluate(X_test, y_test)\n",
    "print(f\"Testing Accuracy: {scores[1] * 100}\\n\")"
   ]
  },
  {
   "cell_type": "markdown",
   "metadata": {},
   "source": [
    "## Confusion matrix"
   ]
  },
  {
   "cell_type": "code",
   "execution_count": 40,
   "metadata": {},
   "outputs": [],
   "source": [
    "# The confusion matrix is a useful visualization tool that provides analysis on\n",
    "# the true negative, false positive, false negative, and true positives made by our\n",
    "# model\n",
    "\n",
    "# True negative: Actual class is negative (no diabetes), and the model predicted negative (no diabetes)\n",
    "# False positive: Actual class is negative (no diabetes), but the model predicted positive (diabetes)\n",
    "# False negative: Actual class is positive (diabetes), but the model predicted negative (no diabetes)\n",
    "# True positive: Actual class is positive (diabetes), and the model predicted positive (diabetes)"
   ]
  },
  {
   "cell_type": "code",
   "execution_count": 42,
   "metadata": {},
   "outputs": [
    {
     "data": {
      "text/plain": [
       "Text(30.5, 0.5, 'Actual')"
      ]
     },
     "execution_count": 42,
     "metadata": {},
     "output_type": "execute_result"
    },
    {
     "data": {
      "image/png": "[encoded data removed]",
      "text/plain": [
       "<Figure size 432x288 with 1 Axes>"
      ]
     },
     "metadata": {},
     "output_type": "display_data"
    }
   ],
   "source": [
    "y_test_pred = model.predict_classes(X_test)\n",
    "c_matrix = confusion_matrix(y_test, y_test_pred)\n",
    "\n",
    "ax = sns.heatmap(c_matrix, annot=True,\n",
    "                 xticklabels=['No Diabetes', 'Diabetes'],\n",
    "                 yticklabels=['No Diabetes', 'Diabetes'],\n",
    "                 cbar=False, cmap='Blues'\n",
    "                )\n",
    "ax.set_xlabel(\"Prediction\")\n",
    "ax.set_ylabel(\"Actual\")"
   ]
  },
  {
   "cell_type": "markdown",
   "metadata": {},
   "source": [
    "## Roc Curve"
   ]
  },
  {
   "cell_type": "code",
   "execution_count": 44,
   "metadata": {},
   "outputs": [],
   "source": [
    "# The ROC curve is a plot with the True Positive Rate (TPR) on the y axis and the False Positive Rate (FPR) on the x axis\n",
    "# Analyze the ROC curve, we look at the area under the curve (AUC) to evaluate the performance of the model that produced the curve. \n",
    "# A large AUC indicates that the model is able to differentiate the respective classes with high accuracy, while a low AUC indicates \n",
    "# that the model makes poor, often wrong predictions. A ROC curve that lies on the diagonal indicates that the model does no better \n",
    "# than random"
   ]
  },
  {
   "cell_type": "code",
   "execution_count": 45,
   "metadata": {},
   "outputs": [],
   "source": [
    "y_test_pred_probs = model.predict(X_test)"
   ]
  },
  {
   "cell_type": "code",
   "execution_count": 46,
   "metadata": {},
   "outputs": [],
   "source": [
    "FPR, TPR, _= roc_curve(y_test, y_test_pred_probs)"
   ]
  },
  {
   "cell_type": "code",
   "execution_count": 47,
   "metadata": {},
   "outputs": [
    {
     "data": {
      "text/plain": [
       "Text(0, 0.5, 'True Positive Rate')"
      ]
     },
     "execution_count": 47,
     "metadata": {},
     "output_type": "execute_result"
    },
    {
     "data": {
      "image/png": "[encoded data removed]",
      "text/plain": [
       "<Figure size 432x288 with 1 Axes>"
      ]
     },
     "metadata": {},
     "output_type": "display_data"
    }
   ],
   "source": [
    "# Ploting False positive rate and True positive rate\n",
    "plt.plot(FPR, TPR)\n",
    "plt.plot([0, 1], [0, 1], '--', color='black')  # diagonal line\n",
    "plt.title(\"ROC Curve\")\n",
    "plt.xlabel('False Positive Rate')\n",
    "plt.ylabel('True Positive Rate')"
   ]
  },
  {
   "cell_type": "code",
   "execution_count": null,
   "metadata": {},
   "outputs": [],
   "source": [
    "# Feature engineering is the process of using one's domain knowledge of the problem to create new features for the machine learning algorithm\n",
    "\n",
    "# Feature selection is used when we believe that the original dataset contains too much noise, and removing the noisy features (features that are \n",
    "# not strong predictors) may improve model performance"
   ]
  }
 ],
 "metadata": {
  "kernelspec": {
   "display_name": "Python 3",
   "language": "python",
   "name": "python3"
  },
  "language_info": {
   "codemirror_mode": {
    "name": "ipython",
    "version": 3
   },
   "file_extension": ".py",
   "mimetype": "text/x-python",
   "name": "python",
   "nbconvert_exporter": "python",
   "pygments_lexer": "ipython3",
   "version": "3.7.5"
  }
 },
 "nbformat": 4,
 "nbformat_minor": 4
}
